{
 "cells": [
  {
   "cell_type": "code",
   "execution_count": 1,
   "metadata": {},
   "outputs": [],
   "source": [
    "import importlib\n",
    "import matplotlib\n",
    "import matplotlib.pyplot as plt\n",
    "import numpy as np\n",
    "import pandas as pd\n",
    "import networkx as nx\n",
    "import os\n",
    "from random import random, seed, uniform, gauss\n",
    "import re\n",
    "import sys\n",
    "\n",
    "from sklearn.linear_model import LinearRegression\n"
   ]
  },
  {
   "cell_type": "code",
   "execution_count": 2,
   "metadata": {},
   "outputs": [],
   "source": [
    "seed(12345)\n",
    "np.random.seed(12345)"
   ]
  },
  {
   "cell_type": "code",
   "execution_count": 3,
   "metadata": {},
   "outputs": [],
   "source": [
    "%matplotlib inline\n",
    "\n",
    "pd.options.display.max_rows = 250\n",
    "pd.options.display.max_columns = 125\n",
    "pd.options.display.max_colwidth = 250\n",
    "\n",
    "nx_options = {\n",
    "    'node_color': 'orange',\n",
    "    \"edge_color\": \"blue\",\n",
    "    \"with_labels\": True,\n",
    "    \"font_weight\": 'bold',\n",
    "    \"font_size\": 12,\n",
    "    'node_size': 1200,\n",
    "    'width': 1,\n",
    "    \"arrowsize\": 15,\n",
    "}\n",
    "\n",
    "num_data_elts = 1_000_000\n",
    "num_bins = 50\n"
   ]
  },
  {
   "cell_type": "code",
   "execution_count": 4,
   "metadata": {},
   "outputs": [
    {
     "name": "stdout",
     "output_type": "stream",
     "text": [
      "dataset_01.py\n",
      "dataset_02.py\n",
      "dataset_03.py\n",
      "\n"
     ]
    }
   ],
   "source": [
    "dataset_dir = \".\"\n",
    "dataset_re = re.compile(r\"^dataset_0?(\\d+).py\")\n",
    "all_datasets = [f for f in sorted(os.listdir(dataset_dir)) if dataset_re.match(f)]\n",
    "\n",
    "print(\"\\n\".join(all_datasets))\n",
    "print()"
   ]
  },
  {
   "cell_type": "code",
   "execution_count": 5,
   "metadata": {},
   "outputs": [
    {
     "data": {
      "text/plain": [
       "('dataset_01.py', 1)"
      ]
     },
     "execution_count": 5,
     "metadata": {},
     "output_type": "execute_result"
    }
   ],
   "source": [
    "f=lambda x: x\n",
    "\n",
    "dataset = f(\"\"\"\n",
    "\n",
    "dataset_01.py\n",
    "\n",
    "\"\"\".strip())\n",
    "\n",
    "dataset_index = int(dataset_re.match(dataset).group(1))\n",
    "\n",
    "dataset, dataset_index"
   ]
  },
  {
   "cell_type": "code",
   "execution_count": 6,
   "metadata": {},
   "outputs": [],
   "source": [
    "module = importlib.import_module(\"dataset_%02d\" % dataset_index)"
   ]
  },
  {
   "cell_type": "code",
   "execution_count": 7,
   "metadata": {},
   "outputs": [],
   "source": [
    "setattr(sys.modules[__name__], \"dataset\", module)\n",
    "setattr(sys.modules[__name__], \"g\", dataset.g)\n",
    "setattr(sys.modules[__name__], \"draw_fn\", dataset.draw_fn)\n",
    "setattr(sys.modules[__name__], \"observation\", dataset.observation)"
   ]
  },
  {
   "cell_type": "code",
   "execution_count": null,
   "metadata": {},
   "outputs": [],
   "source": []
  },
  {
   "cell_type": "code",
   "execution_count": 8,
   "metadata": {
    "scrolled": true
   },
   "outputs": [
    {
     "data": {
      "image/png": "[encoded data removed]",
      "text/plain": [
       "<Figure size 432x288 with 1 Axes>"
      ]
     },
     "metadata": {},
     "output_type": "display_data"
    }
   ],
   "source": [
    "draw_fn(g, **nx_options)"
   ]
  },
  {
   "cell_type": "code",
   "execution_count": null,
   "metadata": {},
   "outputs": [],
   "source": []
  },
  {
   "cell_type": "code",
   "execution_count": 9,
   "metadata": {},
   "outputs": [],
   "source": [
    "data = [dataset.observation() for _ in range(num_data_elts)]\n",
    "df = pd.DataFrame(data, columns=sorted(g.nodes))"
   ]
  },
  {
   "cell_type": "code",
   "execution_count": 10,
   "metadata": {
    "scrolled": false
   },
   "outputs": [
    {
     "name": "stdout",
     "output_type": "stream",
     "text": [
      "B {'X': -0.59009, 'A': 0.48179, 'Y': -0.00091}\n",
      "\n",
      "X {'B': -1.54783, 'A': 0.79005, 'Y': 0.00252}\n",
      "\n",
      "A {'B': 1.9997, 'X': 1.25014, 'Y': -7e-05}\n",
      "\n",
      "Y {'B': -0.96496, 'X': 1.02244, 'A': -0.0176}\n",
      "\n"
     ]
    }
   ],
   "source": [
    "# See the regression coefficients for predicting each variable from the others.\n",
    "\n",
    "for node in g.nodes:\n",
    "#     parents = list(g.predecessors(node))\n",
    "#     print(node, parents)\n",
    "    \n",
    "#     if len(parents) == 0:\n",
    "#         continue\n",
    "\n",
    "    model_columns = [col for col in g.nodes if col != node]\n",
    "\n",
    "    x_train = df[model_columns]\n",
    "    y_train = df[node]\n",
    "    \n",
    "    model = LinearRegression().fit(x_train, y_train)\n",
    "\n",
    "    print(node, dict(zip(model_columns, [np.round(coeff, 5) for coeff in model.coef_])))\n",
    "    print()"
   ]
  },
  {
   "cell_type": "code",
   "execution_count": null,
   "metadata": {},
   "outputs": [],
   "source": []
  },
  {
   "cell_type": "markdown",
   "metadata": {},
   "source": [
    "If the variables in $Z$ satisfy the backdoor criterion\n",
    "\n",
    "$$\n",
    "P(Y=y | do(X=x)) = \\sum_z P(Y=y | X=x, Z=z) P(Z=z) \\\\\n",
    "= \\sum_z \\frac{P(Y=y, X=x, Z=z)}{P(X=x | Z=z)}\n",
    "$$"
   ]
  },
  {
   "cell_type": "code",
   "execution_count": null,
   "metadata": {},
   "outputs": [],
   "source": []
  },
  {
   "cell_type": "code",
   "execution_count": 11,
   "metadata": {},
   "outputs": [],
   "source": [
    "def find_directed_paths(g, src, dest):\n",
    "    def find_paths(node, path):\n",
    "        path_extension = path + (node,)\n",
    "        if node == dest:\n",
    "            yield path_extension\n",
    "\n",
    "        assert node not in path, \"Graph has a cycle so is not a DAG: %s\" % path_extension\n",
    "        \n",
    "        for _, child_node in g.out_edges(node):\n",
    "            yield from find_paths(child_node, path_extension)\n",
    "\n",
    "    return list(find_paths(src, tuple()))\n",
    "\n",
    "def find_all_paths(g, src, dest):\n",
    "    def find_paths(node, path):\n",
    "        path_extension = path + (node,)\n",
    "        if node == dest:\n",
    "            yield path_extension\n",
    "        elif node not in path:\n",
    "            for _, child_node in g.out_edges(node):\n",
    "                yield from find_paths(child_node, path_extension)\n",
    "\n",
    "            for child_node, _ in g.in_edges(node):\n",
    "                yield from find_paths(child_node, path_extension)\n",
    "\n",
    "    return find_paths(src, tuple())\n",
    "\n",
    "def is_collider_connection(g, nodeL, node0, nodeR):\n",
    "    return {(nodeL, node0), (nodeR, node0)} <= set(g.in_edges(node0))\n",
    "\n",
    "def d_connections(g, node1, node2, given_vars):\n",
    "    connected_paths = []\n",
    "    for path in find_all_paths(g, node1, node2):\n",
    "        is_connected = True\n",
    "        for k in range(1, len(path) - 1):\n",
    "            print(k, len(path), path)\n",
    "            if is_collider_connection(g, path[k-1], path[k], path[k + 1]):\n",
    "                if path[k] not in given_vars:\n",
    "                    is_connected = False\n",
    "                    break\n",
    "            else:\n",
    "                if path[k] in given_vars:\n",
    "                    is_connected = False\n",
    "                    break\n",
    "        \n",
    "        if is_connected:\n",
    "            connected_paths.append(path)\n",
    "    \n",
    "    return connected_paths\n",
    "\n",
    "def path_coefficients(df, dest, model_columns):\n",
    "    xs = df[model_columns]\n",
    "    ys = df[dest]\n",
    "    \n",
    "    model = LinearRegression().fit(xs, ys)\n",
    "\n",
    "    return dict(zip(model_columns, [np.round(coeff, 5) for coeff in model.coef_]))\n",
    "\n",
    "def estimated_coefficients(g, df):\n",
    "    estimates = []\n",
    "    for node in sorted(g.nodes):\n",
    "        parents = [other for other, _ in g.in_edges(node)]\n",
    "\n",
    "        if len(parents) > 0:\n",
    "            coeffs = path_coefficients(df, node, parents)\n",
    "\n",
    "            for parent in sorted(parents):\n",
    "                estimates.append(\"%s %s %f\" % (parent, node, coeffs[parent]))\n",
    "    \n",
    "    print(*sorted(estimates), sep=\"\\n\")\n",
    "\n",
    "def actual_coefficients(local_vars):\n",
    "    for k, v in sorted(local_vars.items()):\n",
    "        if k.endswith(\"_coeff\"):\n",
    "            print(\"%s = %s\" % (k, v))\n",
    "\n",
    "def do_value_dataframe(g, fn_name, fn):\n",
    "    \"\"\"\n",
    "    Override a local function definition temporarily and generate a new dataset.\n",
    "    NOTE: mocking doesn't seem to work for locally-defined functions.\n",
    "    \"\"\"\n",
    "    from unittest import mock\n",
    "\n",
    "    with mock.patch.dict(dataset.__dict__, {fn_name: fn}):\n",
    "        data = [observation() for _ in range(num_data_elts)]\n",
    "        df = pd.DataFrame(data, columns=sorted(g.nodes))\n",
    "\n",
    "        return df\n",
    "\n",
    "def empirical_total_effect(g, src, dest, fn1, fn2):\n",
    "    fn_name = \"%s_value\" % src\n",
    "    value_1 = do_value_dataframe(g, fn_name, fn1)[dest]\n",
    "    value_2 = do_value_dataframe(g, fn_name, fn2)[dest]\n",
    "    diff = value_2 - value_1\n",
    "    \n",
    "    return diff.mean()"
   ]
  },
  {
   "cell_type": "code",
   "execution_count": 12,
   "metadata": {
    "scrolled": false
   },
   "outputs": [
    {
     "data": {
      "image/png": "[encoded data removed]",
      "text/plain": [
       "<Figure size 432x288 with 1 Axes>"
      ]
     },
     "metadata": {},
     "output_type": "display_data"
    }
   ],
   "source": [
    "draw_fn(g, **nx_options)"
   ]
  },
  {
   "cell_type": "code",
   "execution_count": null,
   "metadata": {},
   "outputs": [],
   "source": []
  },
  {
   "cell_type": "code",
   "execution_count": 13,
   "metadata": {},
   "outputs": [
    {
     "name": "stdout",
     "output_type": "stream",
     "text": [
      "B_A_coeff = 2\n",
      "B_X_coeff = 3\n",
      "B_Y_coeff = -1\n",
      "X_A_coeff = 1.25\n",
      "X_Y_coeff = 1\n"
     ]
    }
   ],
   "source": [
    "actual_coefficients(dataset.__dict__)"
   ]
  },
  {
   "cell_type": "code",
   "execution_count": 14,
   "metadata": {
    "scrolled": true
   },
   "outputs": [
    {
     "name": "stdout",
     "output_type": "stream",
     "text": [
      "B A 1.999770\n",
      "B X 2.999140\n",
      "B Y -1.000160\n",
      "X A 1.250070\n",
      "X Y 1.000440\n"
     ]
    }
   ],
   "source": [
    "estimated_coefficients(g, df)"
   ]
  },
  {
   "cell_type": "code",
   "execution_count": 15,
   "metadata": {},
   "outputs": [
    {
     "name": "stdout",
     "output_type": "stream",
     "text": [
      "theoretical 2.000\n",
      "\n",
      "empirical   2.008\n",
      "empirical   2.004\n",
      "empirical   2.005\n",
      "empirical   1.998\n",
      "empirical   2.003\n"
     ]
    }
   ],
   "source": [
    "if dataset_index == 1:\n",
    "    # total effect of B on Y = direct effect + effect via X\n",
    "    print(\"%-11s %5.3f\" % (\"theoretical\",\n",
    "                           dataset.B_Y_coeff + dataset.B_X_coeff * dataset.X_Y_coeff))\n",
    "    print()\n",
    "    \n",
    "    for sample in range(5):\n",
    "        print(\"%-11s %5.3f\" % (\"empirical\",\n",
    "                               empirical_total_effect(g, \"B\", \"Y\", lambda *a: 1, lambda *a: 2)))"
   ]
  },
  {
   "cell_type": "code",
   "execution_count": 16,
   "metadata": {},
   "outputs": [],
   "source": [
    "if dataset_index == 3:\n",
    "    # total effect of Z3 on Y = direct effect + effect via X and W\n",
    "    print(\"%-11s %5.3f\" % (\"theoretical\",\n",
    "                           dataset.Z3_Y_coeff + dataset.Z3_X_coeff * dataset.X_W_coeff * dataset.W_Y_coeff))\n",
    "    print()\n",
    "    \n",
    "    for sample in range(5):\n",
    "        print(\"%-11s %5.3f\" % (\"empirical\",\n",
    "                               empirical_total_effect(g, \"Z3\", \"Y\", lambda *a: 1, lambda *a: 2)))"
   ]
  },
  {
   "cell_type": "code",
   "execution_count": 17,
   "metadata": {
    "scrolled": false
   },
   "outputs": [
    {
     "data": {
      "image/png": "[encoded data removed]",
      "text/plain": [
       "<Figure size 432x288 with 1 Axes>"
      ]
     },
     "metadata": {},
     "output_type": "display_data"
    }
   ],
   "source": [
    "draw_fn(g, **nx_options)"
   ]
  },
  {
   "cell_type": "code",
   "execution_count": null,
   "metadata": {},
   "outputs": [],
   "source": []
  },
  {
   "cell_type": "code",
   "execution_count": null,
   "metadata": {},
   "outputs": [],
   "source": []
  },
  {
   "cell_type": "code",
   "execution_count": null,
   "metadata": {},
   "outputs": [],
   "source": []
  },
  {
   "cell_type": "code",
   "execution_count": null,
   "metadata": {},
   "outputs": [],
   "source": []
  },
  {
   "cell_type": "code",
   "execution_count": null,
   "metadata": {},
   "outputs": [],
   "source": []
  },
  {
   "cell_type": "code",
   "execution_count": null,
   "metadata": {},
   "outputs": [],
   "source": []
  },
  {
   "cell_type": "code",
   "execution_count": null,
   "metadata": {},
   "outputs": [],
   "source": []
  },
  {
   "cell_type": "code",
   "execution_count": null,
   "metadata": {},
   "outputs": [],
   "source": []
  },
  {
   "cell_type": "code",
   "execution_count": null,
   "metadata": {},
   "outputs": [],
   "source": []
  }
 ],
 "metadata": {
  "kernelspec": {
   "display_name": "Python 3",
   "language": "python",
   "name": "python3"
  },
  "language_info": {
   "codemirror_mode": {
    "name": "ipython",
    "version": 3
   },
   "file_extension": ".py",
   "mimetype": "text/x-python",
   "name": "python",
   "nbconvert_exporter": "python",
   "pygments_lexer": "ipython3",
   "version": "3.7.3"
  }
 },
 "nbformat": 4,
 "nbformat_minor": 2
}
