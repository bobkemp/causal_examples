{
 "cells": [
  {
   "cell_type": "markdown",
   "metadata": {},
   "source": [
    "__Implement 4c, 4d, and 4f.  Plot graphs (histograms?) to show the sample data__"
   ]
  },
  {
   "cell_type": "code",
   "execution_count": null,
   "metadata": {},
   "outputs": [],
   "source": []
  },
  {
   "cell_type": "code",
   "execution_count": null,
   "metadata": {},
   "outputs": [],
   "source": []
  },
  {
   "cell_type": "markdown",
   "metadata": {},
   "source": [
    "## Handling sample selection bias\n",
    "\n",
    "The use of linear models, where possible, simplifies causal reasoning and allows one to use linear regression to determine path coefficients relating values.  They make life a lot easier.\n",
    "\n",
    "This notebook shows how path coefficients are calculated on a synthetic dataset where we can control the correct values.  The dataset construction code is in dataset_N.py for N = 01, 02, 03 and useful functions are defined in causal_utils.py, all in the current directory.\n"
   ]
  },
  {
   "cell_type": "code",
   "execution_count": 1,
   "metadata": {},
   "outputs": [],
   "source": [
    "import importlib\n",
    "import matplotlib\n",
    "import matplotlib.pyplot as plt\n",
    "import numpy as np\n",
    "import pandas as pd\n",
    "import networkx as nx\n",
    "import os\n",
    "from random import random, seed, uniform, gauss\n",
    "import re\n",
    "import sys\n",
    "\n",
    "from sklearn.linear_model import LinearRegression\n"
   ]
  },
  {
   "cell_type": "code",
   "execution_count": 2,
   "metadata": {},
   "outputs": [],
   "source": [
    "import causal_utils as u"
   ]
  },
  {
   "cell_type": "code",
   "execution_count": 3,
   "metadata": {},
   "outputs": [],
   "source": [
    "# Set a seed so that the results are reproducible.  The value is arbitrary and everything works without it\n",
    "\n",
    "seed(12345)\n",
    "np.random.seed(12345)"
   ]
  },
  {
   "cell_type": "code",
   "execution_count": 4,
   "metadata": {},
   "outputs": [],
   "source": [
    "%matplotlib inline\n",
    "\n",
    "pd.options.display.max_rows = 250\n",
    "pd.options.display.max_columns = 125\n",
    "pd.options.display.max_colwidth = 250\n",
    "\n",
    "nx_options = {\n",
    "    'node_color': 'orange',\n",
    "    \"edge_color\": \"blue\",\n",
    "    \"with_labels\": True,\n",
    "    \"font_weight\": 'bold',\n",
    "    \"font_size\": 12,\n",
    "    'node_size': 1200,\n",
    "    'width': 1,\n",
    "    \"arrowsize\": 15,\n",
    "}\n",
    "\n",
    "# The accuracy is okay with 100k observations but a milion is better.\n",
    "num_data_elts = 1_000_000\n"
   ]
  },
  {
   "cell_type": "code",
   "execution_count": 5,
   "metadata": {},
   "outputs": [],
   "source": [
    "dataset_index = 2\n",
    "\n",
    "assert dataset_index in [1, 2]"
   ]
  },
  {
   "cell_type": "code",
   "execution_count": 6,
   "metadata": {},
   "outputs": [],
   "source": [
    "if dataset_index == 1:\n",
    "    import sample_selection_bias_dataset_01 as dataset\n",
    "    from sample_selection_bias_dataset_01 import g, draw_fn, observation\n",
    "\n",
    "elif dataset_index == 2:\n",
    "    import sample_selection_bias_dataset_02 as dataset\n",
    "    from sample_selection_bias_dataset_02 import g, draw_fn, observation\n"
   ]
  },
  {
   "cell_type": "code",
   "execution_count": 7,
   "metadata": {
    "scrolled": true
   },
   "outputs": [
    {
     "data": {
      "image/png": "[encoded data removed]",
      "text/plain": [
       "<Figure size 432x288 with 1 Axes>"
      ]
     },
     "metadata": {},
     "output_type": "display_data"
    }
   ],
   "source": [
    "draw_fn(g, **nx_options)"
   ]
  },
  {
   "cell_type": "code",
   "execution_count": null,
   "metadata": {},
   "outputs": [],
   "source": []
  },
  {
   "cell_type": "code",
   "execution_count": 8,
   "metadata": {},
   "outputs": [],
   "source": [
    "data = [dataset.observation() for _ in range(num_data_elts)]\n",
    "df = pd.DataFrame(data, columns=sorted(g.nodes))"
   ]
  },
  {
   "cell_type": "code",
   "execution_count": 9,
   "metadata": {},
   "outputs": [],
   "source": [
    "dfs = df.loc[df.S == 1]"
   ]
  },
  {
   "cell_type": "code",
   "execution_count": null,
   "metadata": {},
   "outputs": [],
   "source": []
  },
  {
   "cell_type": "code",
   "execution_count": 10,
   "metadata": {},
   "outputs": [
    {
     "name": "stdout",
     "output_type": "stream",
     "text": [
      "T1_X_coeff = 1\n",
      "W1_S_coeff = 3.2\n",
      "W1_T1_coeff = 2.3\n",
      "W2_S_coeff = -1.2\n",
      "W2_Y_coeff = 4\n",
      "W3_Y_coeff = 3\n",
      "X_W3_coeff = -2\n",
      "Z1_W1_coeff = 3\n",
      "Z1_Z3_coeff = -1\n",
      "Z2_W2_coeff = 2.2\n",
      "Z2_Z3_coeff = 7\n",
      "Z3_X_coeff = -1.5\n",
      "Z3_Y_coeff = 1.75\n"
     ]
    }
   ],
   "source": [
    "u.actual_coefficients(dataset.__dict__)"
   ]
  },
  {
   "cell_type": "code",
   "execution_count": 11,
   "metadata": {},
   "outputs": [
    {
     "name": "stdout",
     "output_type": "stream",
     "text": [
      "T1 X 1.000000\n",
      "W1 S 0.024120\n",
      "W1 T1 2.299700\n",
      "W2 S 0.020400\n",
      "W2 Y 4.000050\n",
      "W3 Y 2.999960\n",
      "X W3 -2.000000\n",
      "Z1 W1 2.999980\n",
      "Z1 Z3 -0.998870\n",
      "Z2 W2 2.194820\n",
      "Z2 Z3 7.002280\n",
      "Z3 X -1.499990\n",
      "Z3 Y 1.750100\n"
     ]
    }
   ],
   "source": [
    "u.estimated_coefficients(g, df)"
   ]
  },
  {
   "cell_type": "code",
   "execution_count": 12,
   "metadata": {},
   "outputs": [
    {
     "name": "stdout",
     "output_type": "stream",
     "text": [
      "T1 X 0.999930\n",
      "W1 S 0.000000\n",
      "W1 T1 2.298500\n",
      "W2 S 0.000000\n",
      "W2 Y 4.000310\n",
      "W3 Y 3.000170\n",
      "X W3 -1.999950\n",
      "Z1 W1 2.714350\n",
      "Z1 Z3 -0.999250\n",
      "Z2 W2 0.831570\n",
      "Z2 Z3 7.003670\n",
      "Z3 X -1.499950\n",
      "Z3 Y 1.749520\n"
     ]
    }
   ],
   "source": [
    "u.estimated_coefficients(g, dfs)"
   ]
  },
  {
   "cell_type": "code",
   "execution_count": null,
   "metadata": {},
   "outputs": [],
   "source": []
  },
  {
   "cell_type": "code",
   "execution_count": 13,
   "metadata": {},
   "outputs": [],
   "source": [
    "if dataset_index == 1:\n",
    "    controlled_sets = [\n",
    "        [\"X\", \"W1\", \"W2\", \"Z\"],\n",
    "        [\"X\", \"W1\", \"W2\"],\n",
    "        [\"X\", \"Z\"],\n",
    "    ]\n"
   ]
  },
  {
   "cell_type": "code",
   "execution_count": 14,
   "metadata": {},
   "outputs": [],
   "source": [
    "if dataset_index == 2:\n",
    "    controlled_sets = [\n",
    "        [\"X\", \"Z1\", \"Z2\", \"Z3\"],\n",
    "        [\"X\", \"T1\", \"W1\", \"W2\", \"Z1\", \"Z2\", \"Z3\"],\n",
    "    ]\n"
   ]
  },
  {
   "cell_type": "code",
   "execution_count": 15,
   "metadata": {
    "scrolled": true
   },
   "outputs": [
    {
     "name": "stdout",
     "output_type": "stream",
     "text": [
      "['X', 'Z1', 'Z2', 'Z3']\n",
      "all   {'X': -6.00426, 'Z1': 0.00287, 'Z2': 8.81856, 'Z3': 1.73793}\n",
      "S = 1 {'X': -6.00402, 'Z1': -0.00664, 'Z2': 3.3462, 'Z3': 1.74069}\n",
      "\n",
      "['X', 'T1', 'W1', 'W2', 'Z1', 'Z2', 'Z3']\n",
      "all   {'X': -6.0024, 'T1': 0.00203, 'W1': 0.00096, 'W2': 4.00029, 'Z1': -0.00109, 'Z2': 0.00396, 'Z3': 1.74567}\n",
      "S = 1 {'X': -6.00751, 'T1': 0.01033, 'W1': -0.01221, 'W2': 3.99972, 'Z1': 0.01104, 'Z2': 0.00534, 'Z3': 1.73755}\n",
      "\n",
      "empirical total effect of X on Y:\n",
      "-5.957402581120957\n",
      "-6.104733679537095\n",
      "-6.055417609378295\n",
      "-5.911435279392066\n",
      "-5.801992947418718\n"
     ]
    }
   ],
   "source": [
    "for control in controlled_sets:\n",
    "    print(control)\n",
    "    print(\"all  \", u.path_coefficients(df, \"Y\", control))\n",
    "    print(\"S = 1\", u.path_coefficients(dfs, \"Y\", control))\n",
    "    print()\n",
    "\n",
    "print(\"empirical total effect of X on Y:\")\n",
    "for _ in range(5):\n",
    "    print(u.empirical_total_effect(g, dataset, \"X\", \"Y\",\n",
    "                                   lambda *a: 1, lambda *a: 2,\n",
    "                                   num_data_elts=1_000_000))\n"
   ]
  },
  {
   "cell_type": "code",
   "execution_count": 16,
   "metadata": {
    "scrolled": false
   },
   "outputs": [
    {
     "data": {
      "image/png": "[encoded data removed]",
      "text/plain": [
       "<Figure size 432x288 with 1 Axes>"
      ]
     },
     "metadata": {},
     "output_type": "display_data"
    }
   ],
   "source": [
    "nx.draw_circular(g, **nx_options)"
   ]
  },
  {
   "cell_type": "code",
   "execution_count": null,
   "metadata": {},
   "outputs": [],
   "source": []
  },
  {
   "cell_type": "code",
   "execution_count": null,
   "metadata": {},
   "outputs": [],
   "source": []
  },
  {
   "cell_type": "code",
   "execution_count": null,
   "metadata": {},
   "outputs": [],
   "source": []
  },
  {
   "cell_type": "code",
   "execution_count": null,
   "metadata": {},
   "outputs": [],
   "source": []
  }
 ],
 "metadata": {
  "kernelspec": {
   "display_name": "Python 3",
   "language": "python",
   "name": "python3"
  },
  "language_info": {
   "codemirror_mode": {
    "name": "ipython",
    "version": 3
   },
   "file_extension": ".py",
   "mimetype": "text/x-python",
   "name": "python",
   "nbconvert_exporter": "python",
   "pygments_lexer": "ipython3",
   "version": "3.7.3"
  }
 },
 "nbformat": 4,
 "nbformat_minor": 2
}
