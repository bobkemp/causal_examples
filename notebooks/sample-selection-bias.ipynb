{
 "cells": [
  {
   "cell_type": "markdown",
   "metadata": {},
   "source": [
    "__Implement 4c, 4d, and 4f.  Plot graphs (histograms?) to show the sample data__"
   ]
  },
  {
   "cell_type": "code",
   "execution_count": null,
   "metadata": {},
   "outputs": [],
   "source": []
  },
  {
   "cell_type": "code",
   "execution_count": null,
   "metadata": {},
   "outputs": [],
   "source": []
  },
  {
   "cell_type": "markdown",
   "metadata": {},
   "source": [
    "## Handling sample selection bias\n",
    "\n",
    "The use of linear models, where possible, simplifies causal reasoning and allows one to use linear regression to determine path coefficients relating values.  They make life a lot easier.\n",
    "\n",
    "This notebook shows how path coefficients are calculated on a synthetic dataset where we can control the correct values.  The dataset construction code is in dataset_N.py for N = 01, 02, 03 and useful functions are defined in causal_utils.py, all in the current directory.\n"
   ]
  },
  {
   "cell_type": "code",
   "execution_count": 1,
   "metadata": {},
   "outputs": [],
   "source": [
    "import importlib\n",
    "import matplotlib\n",
    "import matplotlib.pyplot as plt\n",
    "import numpy as np\n",
    "import pandas as pd\n",
    "import networkx as nx\n",
    "import os\n",
    "from random import random, seed, uniform, gauss\n",
    "import re\n",
    "import sys\n",
    "\n",
    "from sklearn.linear_model import LinearRegression\n"
   ]
  },
  {
   "cell_type": "code",
   "execution_count": 2,
   "metadata": {},
   "outputs": [],
   "source": [
    "import causal_utils as u"
   ]
  },
  {
   "cell_type": "code",
   "execution_count": 3,
   "metadata": {},
   "outputs": [],
   "source": [
    "# Set a seed so that the results are reproducible.  The value is arbitrary and everything works without it\n",
    "\n",
    "seed(12345)\n",
    "np.random.seed(12345)"
   ]
  },
  {
   "cell_type": "code",
   "execution_count": 4,
   "metadata": {},
   "outputs": [],
   "source": [
    "%matplotlib inline\n",
    "\n",
    "pd.options.display.max_rows = 250\n",
    "pd.options.display.max_columns = 125\n",
    "pd.options.display.max_colwidth = 250\n",
    "\n",
    "nx_options = {\n",
    "    'node_color': 'orange',\n",
    "    \"edge_color\": \"blue\",\n",
    "    \"with_labels\": True,\n",
    "    \"font_weight\": 'bold',\n",
    "    \"font_size\": 12,\n",
    "    'node_size': 1200,\n",
    "    'width': 1,\n",
    "    \"arrowsize\": 15,\n",
    "}\n",
    "\n",
    "# The accuracy is okay with 100k observations but a milion is better.\n",
    "num_data_elts = 1_000_000\n"
   ]
  },
  {
   "cell_type": "code",
   "execution_count": 5,
   "metadata": {},
   "outputs": [],
   "source": [
    "dataset_index = 2\n",
    "\n",
    "assert dataset_index in [1, 2]"
   ]
  },
  {
   "cell_type": "code",
   "execution_count": 6,
   "metadata": {},
   "outputs": [],
   "source": [
    "if dataset_index == 1:\n",
    "    import sample_selection_bias_dataset_01 as dataset\n",
    "    from sample_selection_bias_dataset_01 import g, draw_fn, observation\n",
    "\n",
    "elif dataset_index == 2:\n",
    "    import sample_selection_bias_dataset_02 as dataset\n",
    "    from sample_selection_bias_dataset_02 import g, draw_fn, observation\n"
   ]
  },
  {
   "cell_type": "code",
   "execution_count": 7,
   "metadata": {
    "scrolled": true
   },
   "outputs": [
    {
     "data": {
      "image/png": "[encoded data removed]",
      "text/plain": [
       "<Figure size 432x288 with 1 Axes>"
      ]
     },
     "metadata": {},
     "output_type": "display_data"
    }
   ],
   "source": [
    "draw_fn(g, **nx_options)"
   ]
  },
  {
   "cell_type": "code",
   "execution_count": null,
   "metadata": {},
   "outputs": [],
   "source": []
  },
  {
   "cell_type": "code",
   "execution_count": 8,
   "metadata": {},
   "outputs": [],
   "source": [
    "data = [dataset.observation() for _ in range(num_data_elts)]\n",
    "df = pd.DataFrame(data, columns=sorted(g.nodes))"
   ]
  },
  {
   "cell_type": "code",
   "execution_count": 9,
   "metadata": {},
   "outputs": [],
   "source": [
    "dfs = df.loc[df.S == 1]"
   ]
  },
  {
   "cell_type": "code",
   "execution_count": null,
   "metadata": {},
   "outputs": [],
   "source": []
  },
  {
   "cell_type": "code",
   "execution_count": 10,
   "metadata": {},
   "outputs": [
    {
     "name": "stdout",
     "output_type": "stream",
     "text": [
      "T1 X 1.000000\n",
      "W1 S 0.032520\n",
      "W1 T1 2.299700\n",
      "W2 S 0.028960\n",
      "W2 Y 4.000050\n",
      "W3 Y 2.999960\n",
      "X W3 -2.000000\n",
      "Z1 W1 2.999980\n",
      "Z1 Z3 -0.998870\n",
      "Z2 W2 2.194820\n",
      "Z2 Z3 7.002280\n",
      "Z3 X -1.499990\n",
      "Z3 Y 1.750100\n"
     ]
    }
   ],
   "source": [
    "u.estimated_coefficients(g, df)"
   ]
  },
  {
   "cell_type": "code",
   "execution_count": 11,
   "metadata": {},
   "outputs": [
    {
     "name": "stdout",
     "output_type": "stream",
     "text": [
      "T1 X 0.999970\n",
      "W1 S 0.000000\n",
      "W1 T1 2.299000\n",
      "W2 S 0.000000\n",
      "W2 Y 3.999810\n",
      "W3 Y 3.000020\n",
      "X W3 -2.000020\n",
      "Z1 W1 2.933260\n",
      "Z1 Z3 -0.996500\n",
      "Z2 W2 1.554060\n",
      "Z2 Z3 7.001920\n",
      "Z3 X -1.499990\n",
      "Z3 Y 1.749820\n"
     ]
    }
   ],
   "source": [
    "u.estimated_coefficients(g, dfs)"
   ]
  },
  {
   "cell_type": "code",
   "execution_count": null,
   "metadata": {},
   "outputs": [],
   "source": []
  },
  {
   "cell_type": "code",
   "execution_count": 12,
   "metadata": {},
   "outputs": [],
   "source": [
    "if dataset_index == 1:\n",
    "    controlled_sets = [\n",
    "        [\"X\", \"W1\", \"W2\", \"Z\"],\n",
    "        [\"X\", \"W1\", \"W2\"],\n",
    "        [\"X\", \"Z\"],\n",
    "    ]\n"
   ]
  },
  {
   "cell_type": "code",
   "execution_count": 14,
   "metadata": {},
   "outputs": [],
   "source": [
    "if dataset_index == 2:\n",
    "    controlled_sets = [\n",
    "        [\"X\", \"Z1\", \"Z2\", \"Z3\"],\n",
    "        [\"X\", \"T1\", \"W1\", \"W2\", \"Z1\", \"Z2\", \"Z3\"],\n",
    "    ]\n"
   ]
  },
  {
   "cell_type": "code",
   "execution_count": 17,
   "metadata": {
    "scrolled": true
   },
   "outputs": [
    {
     "name": "stdout",
     "output_type": "stream",
     "text": [
      "['X', 'Z1', 'Z2', 'Z3']\n",
      "all   {'X': -6.00426, 'Z1': 0.00287, 'Z2': 8.81856, 'Z3': 1.73793}\n",
      "S = 1 {'X': -6.65143, 'Z1': -1.49436, 'Z2': 4.85569, 'Z3': 0.77239}\n",
      "\n",
      "['X', 'T1', 'W1', 'W2', 'Z1', 'Z2', 'Z3']\n",
      "all   {'X': -6.0024, 'T1': 0.00203, 'W1': 0.00096, 'W2': 4.00029, 'Z1': -0.00109, 'Z2': 0.00396, 'Z3': 1.74567}\n",
      "S = 1 {'X': -6.00929, 'T1': 0.00967, 'W1': -0.00271, 'W2': 4.00045, 'Z1': 0.00385, 'Z2': 0.00505, 'Z3': 1.73511}\n",
      "\n",
      "empirical total effect of X on Y:\n",
      "-6.104733679537095\n",
      "-6.055417609378295\n",
      "-5.911435279392066\n",
      "-5.801992947418718\n",
      "-5.971087710795104\n"
     ]
    }
   ],
   "source": [
    "for control in controlled_sets:\n",
    "    print(control)\n",
    "    print(\"all  \", u.path_coefficients(df, \"Y\", control))\n",
    "    print(\"S = 1\", u.path_coefficients(dfs, \"Y\", control))\n",
    "    print()\n",
    "\n",
    "print(\"empirical total effect of X on Y:\")\n",
    "for _ in range(5):\n",
    "    print(u.empirical_total_effect(g, dataset, \"X\", \"Y\",\n",
    "                                   lambda *a: 1, lambda *a: 2,\n",
    "                                   num_data_elts=100_000))\n"
   ]
  },
  {
   "cell_type": "code",
   "execution_count": null,
   "metadata": {},
   "outputs": [],
   "source": []
  },
  {
   "cell_type": "code",
   "execution_count": null,
   "metadata": {
    "scrolled": false
   },
   "outputs": [],
   "source": [
    "draw_fn(g, **nx_options)"
   ]
  },
  {
   "cell_type": "code",
   "execution_count": null,
   "metadata": {},
   "outputs": [],
   "source": []
  },
  {
   "cell_type": "code",
   "execution_count": null,
   "metadata": {},
   "outputs": [],
   "source": [
    "1/0"
   ]
  },
  {
   "cell_type": "code",
   "execution_count": null,
   "metadata": {},
   "outputs": [],
   "source": []
  },
  {
   "cell_type": "code",
   "execution_count": null,
   "metadata": {},
   "outputs": [],
   "source": [
    "# Because of the way we define the dataset functions, we can access the actual coefficients used in them\n",
    "\n",
    "u.actual_coefficients(dataset.__dict__)"
   ]
  },
  {
   "cell_type": "code",
   "execution_count": null,
   "metadata": {
    "scrolled": false
   },
   "outputs": [],
   "source": [
    "# These are the estimates for the coefficients produced by linear regression\n",
    "\n",
    "u.estimated_coefficients(g, df)"
   ]
  },
  {
   "cell_type": "code",
   "execution_count": null,
   "metadata": {},
   "outputs": [],
   "source": []
  },
  {
   "cell_type": "markdown",
   "metadata": {},
   "source": [
    "By using the Python unittest mocking library, we can implement the do(V=v) operator without altering the source code.  This allows us to validate that regression really has given us the right answers"
   ]
  },
  {
   "cell_type": "code",
   "execution_count": null,
   "metadata": {},
   "outputs": [],
   "source": [
    "if dataset_index == 1:\n",
    "    # total effect of B on Y = direct effect + effect via X\n",
    "    print(\"%-11s %5.3f\" % (\"theoretical\",\n",
    "                           dataset.B_Y_coeff + dataset.B_X_coeff * dataset.X_Y_coeff))\n",
    "    print()\n",
    "    \n",
    "    for sample in range(5):\n",
    "        print(\"%-11s %5.3f\" % (\"empirical\",\n",
    "                               u.empirical_total_effect(g, dataset, \"B\", \"Y\",\n",
    "                                                        lambda *a: 1, lambda *a: 2,\n",
    "                                                        num_data_elts=num_data_elts)))"
   ]
  },
  {
   "cell_type": "code",
   "execution_count": null,
   "metadata": {},
   "outputs": [],
   "source": [
    "if dataset_index == 2:\n",
    "    # total effect of X on Y = effect via A + effect via D\n",
    "    print(\"%-11s %5.3f\" % (\"theoretical\",\n",
    "                           dataset.X_A_coeff * dataset.A_Y_coeff + dataset.X_D_coeff * dataset.D_Y_coeff))\n",
    "    print()\n",
    "    \n",
    "    for sample in range(5):\n",
    "        print(\"%-11s %5.3f\" % (\"empirical\",\n",
    "                               u.empirical_total_effect(g, dataset, \"X\", \"Y\",\n",
    "                                                        lambda *a: 1, lambda *a: 2,\n",
    "                                                        num_data_elts=num_data_elts)))"
   ]
  },
  {
   "cell_type": "code",
   "execution_count": null,
   "metadata": {},
   "outputs": [],
   "source": [
    "if dataset_index == 3:\n",
    "    # total effect of Z3 on Y = direct effect + effect via X and W\n",
    "    print(\"%-11s %5.3f\" % (\"theoretical\",\n",
    "                           dataset.Z3_Y_coeff + dataset.Z3_X_coeff * dataset.X_W_coeff * dataset.W_Y_coeff))\n",
    "    print()\n",
    "    \n",
    "    for sample in range(5):\n",
    "        print(\"%-11s %5.3f\" % (\"empirical\",\n",
    "                               u.empirical_total_effect(g, dataset, \"Z3\", \"Y\",\n",
    "                                                        lambda *a: 1, lambda *a: 2,\n",
    "                                                        num_data_elts=num_data_elts)))"
   ]
  },
  {
   "cell_type": "code",
   "execution_count": null,
   "metadata": {
    "scrolled": false
   },
   "outputs": [],
   "source": [
    "draw_fn(g, **nx_options)"
   ]
  },
  {
   "cell_type": "code",
   "execution_count": null,
   "metadata": {},
   "outputs": [],
   "source": []
  },
  {
   "cell_type": "code",
   "execution_count": null,
   "metadata": {},
   "outputs": [],
   "source": []
  },
  {
   "cell_type": "code",
   "execution_count": null,
   "metadata": {},
   "outputs": [],
   "source": []
  }
 ],
 "metadata": {
  "kernelspec": {
   "display_name": "Python 3",
   "language": "python",
   "name": "python3"
  },
  "language_info": {
   "codemirror_mode": {
    "name": "ipython",
    "version": 3
   },
   "file_extension": ".py",
   "mimetype": "text/x-python",
   "name": "python",
   "nbconvert_exporter": "python",
   "pygments_lexer": "ipython3",
   "version": "3.7.3"
  }
 },
 "nbformat": 4,
 "nbformat_minor": 2
}
